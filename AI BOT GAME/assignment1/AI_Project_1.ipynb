{
  "cells": [
    {
      "cell_type": "markdown",
      "metadata": {
        "id": "view-in-github",
        "colab_type": "text"
      },
      "source": [
        "<a href=\"https://colab.research.google.com/github/sharanv16/AI-Game/blob/main/AI_Project_1.ipynb\" target=\"_parent\"><img src=\"https://colab.research.google.com/assets/colab-badge.svg\" alt=\"Open In Colab\"/></a>"
      ]
    },
    {
      "cell_type": "markdown",
      "metadata": {
        "id": "VkTnVLn1Fl5U"
      },
      "source": [
        "Forming the Grid"
      ]
    },
    {
      "cell_type": "markdown",
      "metadata": {
        "id": "Ksa_8ctzH7vG"
      },
      "source": [
        "Create a closed square grid\n",
        "\n",
        "*   1 implies closed cell\n",
        "*   2 implies open cell\n",
        "*   4 implies bot cell\n",
        "*   8 implies captain cell\n",
        "*   16 implies alien cell\n",
        "*   32 implies bot getting caught by alien\n",
        "*   64 implies alien occupying the captain cell\n"
      ]
    },
    {
      "cell_type": "markdown",
      "metadata": {
        "id": "eB3hlZ4pC_VU"
      },
      "source": [
        "# SAVING PRIVATE CAPTAIN"
      ]
    },
    {
      "cell_type": "markdown",
      "metadata": {
        "id": "-b1yqNnOMlpI"
      },
      "source": [
        "## IMPORTS"
      ]
    },
    {
      "cell_type": "code",
      "execution_count": null,
      "metadata": {
        "id": "8nzWA3dVFrTR"
      },
      "outputs": [],
      "source": [
        "import inspect\n",
        "import matplotlib.pyplot as plt\n",
        "import numpy as np\n",
        "import random\n",
        "import time"
      ]
    },
    {
      "cell_type": "markdown",
      "metadata": {
        "id": "gymvBby0UCtj"
      },
      "source": [
        "## CONSTANTS"
      ]
    },
    {
      "cell_type": "code",
      "execution_count": null,
      "metadata": {
        "id": "zfWiyKlLUGm8"
      },
      "outputs": [],
      "source": [
        "BOT_FAILURE = \"FAIL\"\n",
        "BOT_SUCCESS = \"SUCCESS\"\n",
        "BOT_STUCK = \"STUCK\"\n",
        "\n",
        "X_COORDINATE_SHIFT = [1, 0, 0, -1]\n",
        "Y_COORDINATE_SHIFT = [0, 1, -1, 0]\n",
        "\n",
        "LOG_NONE = 0\n",
        "LOG_INFO = 1\n",
        "LOG_DEBUG = 2\n",
        "\n",
        "CLOSED_CELL = 1\n",
        "OPEN_CELL = 2\n",
        "BOT_CELL = 4\n",
        "CAPTAIN_CELL = 8\n",
        "ALIEN_CELL = 16\n",
        "BOT_CAUGHT_CELL = 32\n",
        "CAPTAIN_ALIEN_CELL = 64\n",
        "BOT_SUCCESS_CELL = 128\n",
        "MOVED_ALIEN_CELL = 256\n",
        "MOVED_ALIEN_CAPTAIN_CELL = 512\n",
        "ALL_ALIEN_CELLS = CAPTAIN_ALIEN_CELL | ALIEN_CELL\n",
        "MOVEMENT_CELLS = OPEN_CELL | CAPTAIN_CELL\n",
        "ALIEN_MOVEMENT_CELLS = MOVEMENT_CELLS | BOT_CELL\n",
        "RESCUE_PATH = MOVEMENT_CELLS | CAPTAIN_ALIEN_CELL\n",
        "\n",
        "NO_PATH_FOUND_FLAG = -1\n",
        "FINDING_PATH_FLAG = 0\n",
        "GOAL_REACHED_FLAG = 1\n",
        "NO_MOVES_LEFT_FLAG = 2\n",
        "BOT_CAUGHT_FLAG = 3\n",
        "\n",
        "DEAD_CELLS_CONFIG = {\n",
        "    'all_cells': 1,\n",
        "    'half_cells': 2\n",
        "}"
      ]
    },
    {
      "cell_type": "markdown",
      "metadata": {
        "id": "T6vwelF6iyYq"
      },
      "source": [
        "## GRID LOGIC\n",
        "\n"
      ]
    },
    {
      "cell_type": "markdown",
      "metadata": {
        "id": "jOjNYElsjS_D"
      },
      "source": [
        "### GET NEIGHBORS"
      ]
    },
    {
      "cell_type": "code",
      "execution_count": null,
      "metadata": {
        "id": "5ih7YtuOjT7d"
      },
      "outputs": [],
      "source": [
        "\"\"\"\n",
        "    Returns all adjacent cells that can be reached based on provided filter.\n",
        "\n",
        "    Parameters\n",
        "    ----------\n",
        "    row_size - int\n",
        "        size of the row : 10\n",
        "    column_size - int\n",
        "        size of the column : 10\n",
        "    cell - list\n",
        "        list containing x and y coordinates : (0, 0)\n",
        "    filter - hex value\n",
        "        filter cell based on hex value and only return those cells : 0xff\n",
        "        0xff : adds all values\n",
        "    grid - numpy matrix array\n",
        "        grid to find adj cells details for filtering data\n",
        "\n",
        "    Returns\n",
        "    ----------\n",
        "    set(list)\n",
        "        Adjacent cell locations : [(1, 0), (0, 1), (2, 1), (1, 2)]\n",
        "\"\"\"\n",
        "\n",
        "\n",
        "def get_neighbors(row_size, column_size, cell, filter, grid):\n",
        "    neighbors = []\n",
        "\n",
        "    for i in range(4):\n",
        "        x_cord = cell[0] + X_COORDINATE_SHIFT[i]\n",
        "        y_cord = cell[1] + Y_COORDINATE_SHIFT[i]\n",
        "        if (\n",
        "            (0 <= x_cord < row_size)\n",
        "            and (0 <= y_cord < column_size)\n",
        "            and (grid[(x_cord, y_cord)] & filter)\n",
        "        ):\n",
        "            neighbors.append((x_cord, y_cord))\n",
        "\n",
        "    return neighbors"
      ]
    },
    {
      "cell_type": "markdown",
      "metadata": {
        "id": "PzbGhXthGJAX"
      },
      "source": [
        "### PLAYER PLACE AND COMMON METHODS"
      ]
    },
    {
      "cell_type": "code",
      "execution_count": null,
      "metadata": {
        "id": "gz4uYtZvK1xz"
      },
      "outputs": [],
      "source": [
        "class PlayerPlaceMethods:\n",
        "\n",
        "    def fetch_player_cells(self):\n",
        "        self.player_cells = self.fetch_cells_by_type(OPEN_CELL)\n",
        "\n",
        "    def place_captain(self):\n",
        "        self.captain_cell = self.goal = self.place_entity(CAPTAIN_CELL, True)\n",
        "\n",
        "    def place_aliens(self):\n",
        "        alien_count = self.no_of_aliens\n",
        "        while alien_count:\n",
        "            alien_cell = self.place_entity(ALIEN_CELL)\n",
        "            self.alien_cells.append(alien_cell)\n",
        "            alien_count -= 1\n",
        "\n",
        "    def place_bot(self):\n",
        "        self.bot_cell = self.start = self.place_entity(BOT_CELL)\n",
        "\n",
        "    def place_entity(self, cell_type, skip_remove=False):\n",
        "        cell = random.choice(self.player_cells)\n",
        "        if self.grid[cell] == CAPTAIN_CELL:\n",
        "            cell_type = CAPTAIN_ALIEN_CELL\n",
        "        self.grid[cell] = cell_type\n",
        "        if not skip_remove:\n",
        "            self.player_cells.remove(cell)\n",
        "        return cell\n",
        "\n",
        "    def place_players(self):\n",
        "        self.fetch_player_cells()\n",
        "        self.place_bot()\n",
        "        self.place_captain()\n",
        "        self.place_aliens()"
      ]
    },
    {
      "cell_type": "code",
      "execution_count": null,
      "metadata": {
        "id": "F9iBcwJ9KU3h"
      },
      "outputs": [],
      "source": [
        "class CommonShipMethods(PlayerPlaceMethods):\n",
        "\n",
        "    def assign_base_cells(self):\n",
        "        self.open_cells = self.fetch_cells_by_type(OPEN_CELL)\n",
        "        self.closed_cells = self.fetch_cells_by_type(CLOSED_CELL)\n",
        "        self.player_cells = self.alien_cells = []\n",
        "        self.bot_cell = self.captain_cell = None\n",
        "\n",
        "    def unblock_cell(self, cell):\n",
        "        self.grid[cell] = OPEN_CELL\n",
        "        self.open_cells.append(cell)\n",
        "        self.closed_cells.remove(cell)\n",
        "\n",
        "    def block_cell(self, cell):\n",
        "        self.grid[cell] = CLOSED_CELL\n",
        "        self.closed_cells.append(cell)\n",
        "        self.open_cells.remove(cell)\n",
        "\n",
        "    def fetch_cells_by_type(self, cell_type):\n",
        "        return list(zip(*np.where(self.grid == cell_type)))\n",
        "\n",
        "    def show_grid(self):\n",
        "        print(self.grid)"
      ]
    },
    {
      "cell_type": "markdown",
      "metadata": {
        "id": "QM6sAg0ECThg"
      },
      "source": [
        "### PARENT SHIP"
      ]
    },
    {
      "cell_type": "code",
      "execution_count": null,
      "metadata": {
        "id": "nZN0kOAyhnvd"
      },
      "outputs": [],
      "source": [
        "class ParentShip(CommonShipMethods):\n",
        "    \"\"\" \"\"\"\n",
        "\n",
        "    def __init__(self, grid_size, no_of_aliens, *options):\n",
        "        self.grid_size = grid_size\n",
        "        self.no_of_aliens = no_of_aliens\n",
        "        self.initialize_grid()\n",
        "        self.row_size, self.column_size = self.grid.shape\n",
        "        self.assign_base_cells()\n",
        "        self.options = options\n",
        "\n",
        "    def initialize_grid(self):\n",
        "        \"\"\" \"\"\"\n",
        "        self.grid = np.full((self.grid_size, self.grid_size), OPEN_CELL)\n",
        "\n",
        "    def generate_grid(self):\n",
        "        \"\"\" \"\"\""
      ]
    },
    {
      "cell_type": "markdown",
      "metadata": {
        "id": "F490pl2tCjAy"
      },
      "source": [
        "### NORMAL SHIP"
      ]
    },
    {
      "cell_type": "code",
      "execution_count": null,
      "metadata": {
        "id": "TAbDE5aqCa06"
      },
      "outputs": [],
      "source": [
        "class Ship(ParentShip):\n",
        "    \"\"\"\n",
        "    Requires:\n",
        "    grid_size(D) -\n",
        "    no_of_aliens(K) -\n",
        "    \"\"\"\n",
        "\n",
        "    static_var = 0\n",
        "\n",
        "    def __init__(self, grid_size, no_of_aliens):\n",
        "        super(Ship, self).__init__(grid_size, no_of_aliens)\n",
        "        self.x_start = self.y_start = None\n",
        "\n",
        "    ### GRID GENERATION METHODS ###\n",
        "\n",
        "    def initialize_grid(self):\n",
        "        self.grid = np.full((self.grid_size, self.grid_size), CLOSED_CELL)\n",
        "\n",
        "    def dead_cells_config(self):\n",
        "        return DEAD_CELLS_CONFIG['half_cells']\n",
        "\n",
        "    def generate_grid(self):\n",
        "        self.assign_start_cell()\n",
        "        self.unblock_closed_cells()\n",
        "        self.unblock_dead_ends()\n",
        "\n",
        "    def assign_start_cell(self):\n",
        "        self.x_start = random.randint(0, self.grid_size - 1)\n",
        "        self.y_start = random.randint(0, self.grid_size - 1)\n",
        "        self.unblock_cell((self.x_start, self.y_start))\n",
        "\n",
        "    def unblock_closed_cells(self):\n",
        "        available_cells = self.cells_with_one_open_neighbor(self.closed_cells)\n",
        "        while available_cells:\n",
        "            closed_cell = random.choice(available_cells)\n",
        "            self.unblock_cell(closed_cell)\n",
        "            available_cells = self.cells_with_one_open_neighbor(self.closed_cells)\n",
        "\n",
        "    def unblock_dead_ends(self):\n",
        "        dead_end_cells = self.cells_with_one_open_neighbor(self.open_cells)\n",
        "        half_len = len(dead_end_cells) // self.dead_cells_config()\n",
        "\n",
        "        while half_len:\n",
        "\n",
        "            dead_end_cells = self.cells_with_one_open_neighbor(self.open_cells)\n",
        "            half_len -= 1\n",
        "            if len(dead_end_cells) == 0: continue\n",
        "            dead_end_cell = random.choice(dead_end_cells)\n",
        "            closed_neighbors = get_neighbors(\n",
        "                self.row_size, self.column_size, dead_end_cell, CLOSED_CELL, self.grid\n",
        "            )\n",
        "\n",
        "            random_cell = random.choice(closed_neighbors)\n",
        "            self.unblock_cell(random_cell)\n",
        "\n",
        "    def cells_with_one_open_neighbor(self, cells):\n",
        "        results = []\n",
        "        for cell in cells:\n",
        "            no_of_open_neighbors = len(\n",
        "                get_neighbors(\n",
        "                    self.row_size, self.column_size, cell, OPEN_CELL, self.grid\n",
        "                )\n",
        "            )\n",
        "            if no_of_open_neighbors == 1:\n",
        "                results.append((cell[0], cell[1]))\n",
        "        return results"
      ]
    },
    {
      "cell_type": "markdown",
      "metadata": {
        "id": "_v311qb_CfTf"
      },
      "source": [
        "### BONUS SHIPS"
      ]
    },
    {
      "cell_type": "code",
      "execution_count": null,
      "metadata": {
        "id": "r6mZmu5KCdmw"
      },
      "outputs": [],
      "source": [
        "class BonusShipV1(ParentShip):\n",
        "\n",
        "    def __init__(self, grid_size, no_of_aliens):\n",
        "        super(BonusShipV1, self).__init__(grid_size, no_of_aliens)\n",
        "\n",
        "    ### GRID GENERATION METHODS ###\n",
        "\n",
        "    def generate_grid(self):\n",
        "        self.block_alternate_cells()\n",
        "\n",
        "    def block_alternate_cells(self):\n",
        "        alternate_cells = [\n",
        "            (row, col)\n",
        "            for row in range(len(self.grid))\n",
        "            for col in range(len(self.grid[0]))\n",
        "            if row & 1 and col & 1\n",
        "        ]\n",
        "        for cell in alternate_cells:\n",
        "            self.block_cell(cell)"
      ]
    },
    {
      "cell_type": "code",
      "execution_count": null,
      "metadata": {
        "id": "Epqi4NHBFXYU"
      },
      "outputs": [],
      "source": [
        "class BonusShipV2(Ship):\n",
        "\n",
        "    def __init__(self, grid_size, no_of_aliens):\n",
        "        super(BonusShipV2, self).__init__(grid_size, no_of_aliens)\n",
        "\n",
        "    def dead_cells_config(self):\n",
        "        return DEAD_CELLS_CONFIG['all_cells']"
      ]
    },
    {
      "cell_type": "markdown",
      "metadata": {
        "id": "Er-PrX9ZObrY"
      },
      "source": [
        "## VISUALIZING THE GRID"
      ]
    },
    {
      "cell_type": "code",
      "execution_count": null,
      "metadata": {
        "id": "VSUFEMEHOh6X"
      },
      "outputs": [],
      "source": [
        "def show_color_grid(grid):\n",
        "    color_map = {\n",
        "        CLOSED_CELL: \"black\",\n",
        "        OPEN_CELL: \"white\",\n",
        "        BOT_CELL: \"blue\",\n",
        "        CAPTAIN_CELL: \"green\",\n",
        "        ALIEN_CELL: \"red\",\n",
        "        BOT_CAUGHT_CELL: \"cyan\",\n",
        "        CAPTAIN_ALIEN_CELL: \"magenta\",\n",
        "        BOT_SUCCESS_CELL: \"yellow\",\n",
        "        MOVED_ALIEN_CELL: \"red\",\n",
        "    }\n",
        "\n",
        "    # Create the figure and axes\n",
        "    fig, ax = plt.subplots()\n",
        "\n",
        "    # Define cell width and height\n",
        "    cell_width = 1\n",
        "    cell_height = 1\n",
        "\n",
        "    row_size, col_size = grid.shape\n",
        "\n",
        "    # Fill the cells with the \"x\" pattern\n",
        "    for i in range(row_size):\n",
        "        for j in range(col_size):\n",
        "            color = color_map[grid[i][j]]\n",
        "            x = j * cell_width\n",
        "            y = (row_size - i - 1) * cell_height\n",
        "            ax.plot(\n",
        "                [x, x + cell_width, x + cell_width, x],\n",
        "                [y, y + cell_height, y, y + cell_height],\n",
        "                color=color,\n",
        "                linewidth=2,\n",
        "            )\n",
        "\n",
        "    # Draw black borders around each cell\n",
        "    for i in range(len(grid)):\n",
        "        for j in range(len(grid[i])):\n",
        "            ax.plot([j, j + 1], [i, i], color=\"black\", linewidth=1)\n",
        "            ax.plot([j, j + 1], [i + 1, i + 1], color=\"black\", linewidth=1)\n",
        "            ax.plot([j, j], [i, i + 1], color=\"black\", linewidth=1)\n",
        "            ax.plot([j + 1, j + 1], [i, i + 1], color=\"black\", linewidth=1)\n",
        "\n",
        "    # Set limits and labels\n",
        "    ax.set_xlim(0, col_size * cell_width)\n",
        "    ax.set_ylim(0, row_size * cell_height)\n",
        "    ax.set_aspect(\"equal\")\n",
        "    ax.set_xticks([])\n",
        "    ax.set_yticks([])\n",
        "    ax.set_xlabel(\"X\")\n",
        "    ax.set_ylabel(\"Y\")\n",
        "\n",
        "    # Turn off axes\n",
        "    ax.axis(\"off\")\n",
        "\n",
        "    # Show the plot\n",
        "    plt.show()"
      ]
    },
    {
      "cell_type": "markdown",
      "metadata": {
        "id": "NwBYvGXxyuBQ"
      },
      "source": [
        "## CONSTRAINTS"
      ]
    },
    {
      "cell_type": "code",
      "execution_count": null,
      "metadata": {
        "id": "7rKlthlSyzuu"
      },
      "outputs": [],
      "source": [
        "class Constraints:\n",
        "    def __init__(\n",
        "        self,\n",
        "        queue_size=-1,\n",
        "        bot_max_moves=1000,\n",
        "        max_search_time=-1,\n",
        "        reduce_search_frequenzy=False,\n",
        "    ):\n",
        "        self.queue_size = queue_size\n",
        "        self.bot_max_moves = bot_max_moves\n",
        "        self.reduce_search_frequenzy = reduce_search_frequenzy\n",
        "        self.max_search_time = max_search_time"
      ]
    },
    {
      "cell_type": "markdown",
      "metadata": {
        "id": "sMRpXeOVDfp-"
      },
      "source": [
        "## BOT LOGIC"
      ]
    },
    {
      "cell_type": "markdown",
      "metadata": {
        "id": "w5IJpiupc1Tf"
      },
      "source": [
        "### SEARCH ALGORITHM"
      ]
    },
    {
      "cell_type": "code",
      "execution_count": null,
      "metadata": {
        "id": "kX8PoL4Jc2Hh"
      },
      "outputs": [],
      "source": [
        "class Search_Algorithm:\n",
        "    def __init__(self, ship, constraints, log_level):\n",
        "        self.constraints = constraints\n",
        "        self.local_ship = ship\n",
        "        self.local_grid = np.copy(ship.grid)\n",
        "        self.curr_pos = self.start_cell = ship.start\n",
        "        self.captain_cell = ship.goal\n",
        "        self.row_size = ship.row_size\n",
        "        self.column_size = ship.column_size\n",
        "        self.path_pos = 0\n",
        "        self.log_level = log_level\n",
        "\n",
        "    \"\"\"\n",
        "        Virtual Class that verifies if the neighbor was already visited.\n",
        "        Additional conditions can be implemented in the child class.\n",
        "\n",
        "        Parameters\n",
        "        ----------\n",
        "            neighbor - list\n",
        "                list containing x and y cord : (0,0)\n",
        "            visited_cells - set(list)\n",
        "                set containing all the visited cells : [(0,0), (1,1), ...]\n",
        "\n",
        "        Returns\n",
        "        ----------\n",
        "        boolean\n",
        "            returns true if neighbor can be added to queue : true/false\n",
        "    \"\"\"\n",
        "\n",
        "    def is_add_neighbor(self, grid_copy, neighbor, path_traversed):\n",
        "        return neighbor not in self.visited_cells\n",
        "\n",
        "    \"\"\"\n",
        "        Return the Shortest path from Bot cell to Captain cell\n",
        "\n",
        "        Parameters\n",
        "        ----------\n",
        "            itr_completed - int\n",
        "                no of moves completed by bot (movement + idle)\n",
        "            grid_copy - numpy matrix array (optional)\n",
        "                contains a copy of grid to find the shortest path, uses local copy of grid by default\n",
        "\n",
        "        Returns\n",
        "        ----------\n",
        "        set(list)\n",
        "            returns the shortest path found : [(0, 0), (0, 1), (1, 1), ... (x, y)]\n",
        "    \"\"\"\n",
        "\n",
        "    def find_shortest_path(self, itr_count, neighbor_filter, grid_copy=None):\n",
        "        bfs_queue = []\n",
        "        self.visited_cells = set()\n",
        "        self.path_pos = 0\n",
        "\n",
        "        if grid_copy is None:\n",
        "            grid_copy = self.local_grid\n",
        "\n",
        "        # queue - [ (current_cell, (... path_traversed ...)), ... ]\n",
        "        bfs_queue.append((self.curr_pos, [self.curr_pos]))\n",
        "\n",
        "        while bfs_queue:\n",
        "            current_cell, path_traversed = bfs_queue.pop(0)\n",
        "\n",
        "            self.log_data(\n",
        "                LOG_DEBUG,\n",
        "                \"current_cell\",\n",
        "                type(current_cell),\n",
        "                len(current_cell),\n",
        "                current_cell,\n",
        "            )\n",
        "            self.log_data(\n",
        "                LOG_DEBUG,\n",
        "                \"path_traversed\",\n",
        "                type(path_traversed),\n",
        "                len(path_traversed),\n",
        "                path_traversed,\n",
        "            )\n",
        "\n",
        "            if current_cell == self.captain_cell:\n",
        "                self.log_data(\n",
        "                    LOG_DEBUG,\n",
        "                    f\"Iterations Completed : {itr_count}\\tPath Length : {len(path_traversed)}\\tBot Path : {path_traversed}\",\n",
        "                )\n",
        "                return path_traversed\n",
        "            elif current_cell in self.visited_cells:\n",
        "                continue\n",
        "\n",
        "            self.visited_cells.add(current_cell)\n",
        "            self.log_data(\n",
        "                LOG_DEBUG,\n",
        "                \"visited_cells\",\n",
        "                type(self.visited_cells),\n",
        "                len(self.visited_cells),\n",
        "                self.visited_cells,\n",
        "            )\n",
        "\n",
        "            current_cell_neighbors = get_neighbors(\n",
        "                self.row_size,\n",
        "                self.column_size,\n",
        "                current_cell,\n",
        "                neighbor_filter,\n",
        "                grid_copy,\n",
        "            )\n",
        "\n",
        "            for neighbor in current_cell_neighbors:\n",
        "                if (\n",
        "                    self.constraints.queue_size == -1\n",
        "                    or len(bfs_queue) <= self.constraints.queue_size\n",
        "                ) and (self.is_add_neighbor(grid_copy, neighbor, path_traversed)):\n",
        "                    bfs_queue.append((neighbor, path_traversed + [neighbor]))\n",
        "\n",
        "        return None\n",
        "\n",
        "    def sort_neighbors_by_alien(self, neighbor_cells, grid_copy):\n",
        "        safest_neighbor = []\n",
        "        for neighbor in neighbor_cells:\n",
        "            adj_alien_cell_len = len(\n",
        "                get_neighbors(\n",
        "                    self.row_size,\n",
        "                    self.column_size,\n",
        "                    neighbor,\n",
        "                    ALL_ALIEN_CELLS,\n",
        "                    grid_copy,\n",
        "                )\n",
        "            )\n",
        "            adj_alien_movements_len = len(\n",
        "                get_neighbors(\n",
        "                    self.row_size,\n",
        "                    self.column_size,\n",
        "                    neighbor,\n",
        "                    MOVED_ALIEN_CELL | MOVED_ALIEN_CAPTAIN_CELL,\n",
        "                    grid_copy,\n",
        "                )\n",
        "            )\n",
        "            safest_neighbor.append(\n",
        "                (neighbor, adj_alien_cell_len, adj_alien_movements_len)\n",
        "            )\n",
        "\n",
        "        safest_neighbor = sorted(\n",
        "            sorted(safest_neighbor, key=lambda x: x[2]),\n",
        "            key=lambda x: x[1],\n",
        "        )\n",
        "\n",
        "        return safest_neighbor\n",
        "\n",
        "    def escape_to_nearest_open_cell(self, itr_count, grid_copy):\n",
        "        neighbor_cells = get_neighbors(\n",
        "            self.row_size,\n",
        "            self.column_size,\n",
        "            self.curr_pos,\n",
        "            OPEN_CELL,\n",
        "            grid_copy,\n",
        "        )\n",
        "\n",
        "        if len(neighbor_cells) == 0:\n",
        "            return None\n",
        "\n",
        "        safest_neighbor = self.sort_neighbors_by_alien(neighbor_cells, grid_copy)\n",
        "        escape_path = [self.curr_pos, safest_neighbor[0][0]]\n",
        "        self.log_data(\n",
        "            LOG_DEBUG,\n",
        "            f\"Iterations Completed : {itr_count}\\tEscape Path : {escape_path}\",\n",
        "        )\n",
        "\n",
        "        return escape_path\n",
        "\n",
        "    def escape_path_with_least_aliens(self, itr_count, grid_copy):\n",
        "        adj_alien_movements = get_neighbors(\n",
        "            self.row_size,\n",
        "            self.column_size,\n",
        "            self.curr_pos,\n",
        "            MOVED_ALIEN_CAPTAIN_CELL,\n",
        "            grid_copy,\n",
        "        )\n",
        "\n",
        "        if len(adj_alien_movements) > 0:  # handling edge cases, if any\n",
        "            cap_path = [self.curr_pos, adj_alien_movements[0]]\n",
        "            self.log_data(\n",
        "                LOG_DEBUG,\n",
        "                f\"Iterations Completed : {itr_count}\\tEscape Path : {cap_path}\",\n",
        "            )\n",
        "            return cap_path\n",
        "\n",
        "        adj_alien_movements = get_neighbors(\n",
        "            self.row_size,\n",
        "            self.column_size,\n",
        "            self.curr_pos,\n",
        "            MOVED_ALIEN_CELL,\n",
        "            grid_copy,\n",
        "        )\n",
        "        if len(adj_alien_movements) == 0:\n",
        "            return None\n",
        "\n",
        "        safest_neighbor = self.sort_neighbors_by_alien(adj_alien_movements, grid_copy)\n",
        "        escape_path = [self.curr_pos, safest_neighbor[0][0]]\n",
        "        self.log_data(\n",
        "            LOG_DEBUG,\n",
        "            f\"Iterations Completed : {itr_count}\\tEscape Path : {escape_path}\",\n",
        "        )\n",
        "\n",
        "        return escape_path\n",
        "\n",
        "    def escape_nearby_aliens(self, itr_count, grid_copy):\n",
        "        self.path_pos = 0\n",
        "\n",
        "        if not (grid_copy[self.curr_pos] & BOT_CAUGHT_CELL):\n",
        "            return None\n",
        "\n",
        "        safe_path = self.escape_to_nearest_open_cell(itr_count, grid_copy)\n",
        "\n",
        "        if safe_path is None:\n",
        "            safe_path = self.escape_path_with_least_aliens(itr_count, grid_copy)\n",
        "\n",
        "        return safe_path"
      ]
    },
    {
      "cell_type": "markdown",
      "metadata": {
        "id": "bWEtUbbpyYhB"
      },
      "source": [
        "### PARENT BOT"
      ]
    },
    {
      "cell_type": "code",
      "execution_count": null,
      "metadata": {
        "id": "uQQg-oACydGT"
      },
      "outputs": [],
      "source": [
        "class Parent_Bot(Search_Algorithm):\n",
        "    def __init__(self, ship, constraints, log_level):\n",
        "        super(Parent_Bot, self).__init__(ship, constraints, log_level)\n",
        "        self.bot_path = [self.start_cell]\n",
        "        self.alien_cells = ship.alien_cells.copy()\n",
        "        self.visited_cells = self.bot_caught_cell = self.path = None\n",
        "        self.idle_moves = self.bot_moves = 0\n",
        "        self.status = BOT_FAILURE\n",
        "        self.flag = FINDING_PATH_FLAG\n",
        "        self.time_start = self.time_end = self.time_elapsed = 0\n",
        "\n",
        "    def log_data(self, log_level, *args):\n",
        "        if (self.log_level) and (log_level <= self.log_level):\n",
        "            # print( self.__class__.__name__, \"::\", inspect.currentframe().f_back.f_code.co_name, \"::\", inspect.currentframe().f_back.f_lineno, \"::\", sep=\"\", end=\"\")\n",
        "            print(*args)\n",
        "\n",
        "    def display_grid(self, log_level):\n",
        "        if (self.log_level) and (log_level <= self.log_level):\n",
        "            self.log_data(LOG_INFO, self.local_grid)\n",
        "\n",
        "    def start_timer(self):\n",
        "        self.time_start = time.process_time_ns()\n",
        "\n",
        "    def end_timer(self):\n",
        "        self.time_end = time.process_time_ns()\n",
        "        self.time_elapsed = self.time_end - self.time_start\n",
        "        return self.time_elapsed\n",
        "\n",
        "    def is_stop_search(self):\n",
        "        if (self.constraints.max_search_time != -1) and (\n",
        "            self.end_timer() > self.constraints.max_search_time\n",
        "        ):\n",
        "            return True\n",
        "\n",
        "        self.bot_moves += 1\n",
        "        if self.bot_moves > self.constraints.bot_max_moves:\n",
        "            self.flag = NO_MOVES_LEFT_FLAG\n",
        "            return True\n",
        "        return False\n",
        "\n",
        "    def move_bot(self):\n",
        "        self.path_pos += 1\n",
        "        next_cell = self.path[self.path_pos]\n",
        "        retVal = False\n",
        "\n",
        "        next_cell_val = self.local_grid[next_cell]\n",
        "        if (next_cell_val & (ALIEN_CELL | CAPTAIN_ALIEN_CELL)):\n",
        "            self.flag = BOT_CAUGHT_FLAG\n",
        "            self.bot_caught_cell = next_cell\n",
        "            self.local_grid[next_cell] = BOT_CAUGHT_CELL\n",
        "            retVal = True\n",
        "        elif next_cell_val & CAPTAIN_CELL:\n",
        "            self.flag = GOAL_REACHED_FLAG\n",
        "            self.local_grid[next_cell] = BOT_SUCCESS_CELL\n",
        "            retVal = True\n",
        "        else:\n",
        "            self.local_grid[next_cell] = BOT_CELL\n",
        "\n",
        "        self.local_grid[self.curr_pos] = OPEN_CELL\n",
        "        self.curr_pos = next_cell\n",
        "        self.bot_path.append(next_cell)\n",
        "\n",
        "        return retVal\n",
        "\n",
        "    def move_aliens(self):\n",
        "        random.shuffle(self.alien_cells)\n",
        "\n",
        "        for itr, alien in enumerate(self.alien_cells):\n",
        "            alien_moves_possible = get_neighbors(\n",
        "                self.row_size,\n",
        "                self.column_size,\n",
        "                alien,\n",
        "                ALIEN_MOVEMENT_CELLS,\n",
        "                self.local_grid,\n",
        "            )\n",
        "            self.log_data(\n",
        "                LOG_DEBUG, f\"Alien {itr, alien} has moves {alien_moves_possible}\"\n",
        "            )\n",
        "\n",
        "            if len(alien_moves_possible) == 0:\n",
        "                self.log_data(\n",
        "                    LOG_DEBUG,\n",
        "                    f\"Alien {itr, alien} has no moves\",\n",
        "                )\n",
        "                continue\n",
        "\n",
        "            alien_new_cell = random.choice(alien_moves_possible)\n",
        "\n",
        "            if self.local_grid[alien_new_cell] & BOT_CELL:\n",
        "                self.log_data(\n",
        "                    LOG_DEBUG,\n",
        "                    f\"Alien moves from current cell {itr, alien} to bot cell {alien_new_cell}\",\n",
        "                )\n",
        "                self.flag = BOT_CAUGHT_FLAG\n",
        "                self.bot_caught_cell = alien_new_cell\n",
        "                self.local_grid[alien_new_cell] = BOT_CAUGHT_CELL\n",
        "                self.local_grid[alien] = OPEN_CELL\n",
        "                return True\n",
        "            elif self.local_grid[alien_new_cell] & CAPTAIN_CELL:\n",
        "                self.log_data(\n",
        "                    LOG_DEBUG,\n",
        "                    f\"Alien moves from current cell {itr, alien} to captain cell {alien_new_cell}\",\n",
        "                )\n",
        "                self.local_grid[alien_new_cell] = CAPTAIN_ALIEN_CELL\n",
        "                self.local_grid[alien] = OPEN_CELL\n",
        "            else:\n",
        "                if self.local_grid[alien] & CAPTAIN_ALIEN_CELL:\n",
        "                    self.log_data(\n",
        "                        LOG_DEBUG,\n",
        "                        f\"Alien moves from captain cell {itr, alien, self.local_grid[alien]} to open cell {alien_new_cell}\",\n",
        "                    )\n",
        "                    self.local_grid[alien] = CAPTAIN_CELL\n",
        "                else:\n",
        "                    self.log_data(\n",
        "                        LOG_DEBUG,\n",
        "                        f\"Alien moves from current cell {itr, alien, self.local_grid[alien]} to open cell {alien_new_cell}\",\n",
        "                    )\n",
        "                    self.local_grid[alien] = OPEN_CELL\n",
        "                self.local_grid[alien_new_cell] = ALIEN_CELL\n",
        "\n",
        "            # Update alien_cells with new location\n",
        "            self.alien_cells[itr] = alien_new_cell\n",
        "\n",
        "        return False\n",
        "\n",
        "    def print_rescue_status(self):\n",
        "        if self.flag == GOAL_REACHED_FLAG:\n",
        "            self.log_data(LOG_INFO, \"Goal Reached!!\")\n",
        "            self.status = BOT_SUCCESS\n",
        "        elif self.flag == NO_MOVES_LEFT_FLAG:\n",
        "            self.log_data(LOG_INFO, \"Bot is stuck, no moves left!!\")\n",
        "            self.display_grid(LOG_INFO)\n",
        "            self.status = BOT_STUCK\n",
        "        elif self.flag == BOT_CAUGHT_FLAG:\n",
        "            self.log_data(LOG_INFO, \"RIP Bot!!\")\n",
        "            self.log_data(LOG_INFO, f\"Alien caught bot at {self.bot_caught_cell}\")\n",
        "        elif self.flag == NO_PATH_FOUND_FLAG:\n",
        "            self.log_data(LOG_INFO, \"No path found!!\")\n",
        "        else:\n",
        "            self.log_data(LOG_INFO, \"Unknown error occurred!!\")\n",
        "\n",
        "    def print_rescue_output(self):\n",
        "        self.end_timer()\n",
        "        self.print_rescue_status()\n",
        "        self.log_data(LOG_INFO, self.bot_path)\n",
        "        self.log_data(LOG_INFO, f\"no of steps taken = {len(self.bot_path)}\")\n",
        "        if self.idle_moves:\n",
        "            self.log_data(LOG_INFO, f\"no of idle moves = {self.idle_moves}\")\n",
        "        self.log_data(LOG_INFO, f\"total iterations = {self.bot_moves}\")"
      ]
    },
    {
      "cell_type": "markdown",
      "metadata": {
        "id": "v7fvWa_oEQds"
      },
      "source": [
        "### BOT 1\n"
      ]
    },
    {
      "cell_type": "code",
      "execution_count": null,
      "metadata": {
        "id": "6R4LDgFAKUiC"
      },
      "outputs": [],
      "source": [
        "class Bot_1(Parent_Bot):\n",
        "    def __init__(self, ship, constraints, log_level=LOG_INFO):\n",
        "        super(Bot_1, self).__init__(ship, constraints, log_level)\n",
        "\n",
        "    def start_rescue(self):\n",
        "        self.start_timer()\n",
        "        self.path = self.find_shortest_path(self.bot_moves, RESCUE_PATH | ALIEN_CELL)\n",
        "\n",
        "        if self.path is None:\n",
        "            self.flag = NO_PATH_FOUND_FLAG\n",
        "        else:\n",
        "            while self.flag == FINDING_PATH_FLAG:\n",
        "                if self.is_stop_search():\n",
        "                    break\n",
        "\n",
        "                self.display_grid(LOG_DEBUG)\n",
        "                if self.move_bot():\n",
        "                    break\n",
        "\n",
        "                if self.move_aliens():\n",
        "                    self.display_grid(LOG_DEBUG)\n",
        "                    break\n",
        "\n",
        "        self.print_rescue_output()"
      ]
    },
    {
      "cell_type": "markdown",
      "metadata": {
        "id": "dTJ6Ab8N3oXi"
      },
      "source": [
        "### BOT 2"
      ]
    },
    {
      "cell_type": "code",
      "execution_count": null,
      "metadata": {
        "id": "XVL5PSfT8Dxb"
      },
      "outputs": [],
      "source": [
        "class Bot_2(Parent_Bot):\n",
        "    def __init__(self, ship, constraints, log_level=LOG_INFO):\n",
        "        super(Bot_2, self).__init__(ship, constraints, log_level)\n",
        "\n",
        "    def is_recalculate_path(self):\n",
        "        return (self.path is None) or (self.path in self.alien_cells)\n",
        "\n",
        "    def start_rescue(self):\n",
        "        self.start_timer()\n",
        "        while self.flag == FINDING_PATH_FLAG:\n",
        "            if self.is_stop_search():\n",
        "                break\n",
        "\n",
        "            if (\n",
        "                not self.constraints.reduce_search_frequenzy\n",
        "                or self.is_recalculate_path()\n",
        "            ):\n",
        "                self.path = self.find_shortest_path(self.bot_moves, MOVEMENT_CELLS)\n",
        "\n",
        "            self.display_grid(LOG_DEBUG)\n",
        "            if self.path is None:\n",
        "                self.idle_moves += 1\n",
        "            elif self.move_bot():\n",
        "                break\n",
        "\n",
        "            if self.move_aliens():\n",
        "                self.display_grid(LOG_DEBUG)\n",
        "                break\n",
        "\n",
        "        self.print_rescue_output()"
      ]
    },
    {
      "cell_type": "markdown",
      "metadata": {
        "id": "zzE53mb_xhYU"
      },
      "source": [
        "### BOT 3"
      ]
    },
    {
      "cell_type": "code",
      "execution_count": null,
      "metadata": {
        "id": "UMB6V_zA0Edr"
      },
      "outputs": [],
      "source": [
        "class Bot_3(Bot_2):\n",
        "    def __init__(self, ship, constraints, log_level=LOG_INFO):\n",
        "        super(Bot_3, self).__init__(ship, constraints, log_level)\n",
        "\n",
        "    def clone_grid_with_alien_moves(self):\n",
        "        clone_grid = np.copy(self.local_grid)\n",
        "\n",
        "        for alien in self.alien_cells:\n",
        "            adj_cells = get_neighbors(\n",
        "                self.row_size, self.column_size, alien, MOVEMENT_CELLS, self.local_grid\n",
        "            )\n",
        "            for cell in adj_cells:\n",
        "                clone_grid[cell] = (\n",
        "                    MOVED_ALIEN_CELL\n",
        "                    if clone_grid[cell] & OPEN_CELL\n",
        "                    else MOVED_ALIEN_CAPTAIN_CELL\n",
        "                )\n",
        "\n",
        "        return clone_grid\n",
        "\n",
        "    def start_rescue(self):\n",
        "        self.start_timer()\n",
        "        while self.flag == FINDING_PATH_FLAG:\n",
        "            if self.is_stop_search():\n",
        "                break\n",
        "\n",
        "            if (\n",
        "                not self.constraints.reduce_search_frequenzy\n",
        "            ) or self.is_recalculate_path():\n",
        "                grid_alien_move_copy = self.clone_grid_with_alien_moves()\n",
        "                self.path = self.find_shortest_path(\n",
        "                    self.bot_moves, MOVEMENT_CELLS, grid_alien_move_copy\n",
        "                )\n",
        "                if self.path is None:\n",
        "                    self.path = self.find_shortest_path(self.bot_moves, MOVEMENT_CELLS)\n",
        "                    if self.path is None:\n",
        "                        self.idle_moves += 1\n",
        "\n",
        "            self.display_grid(LOG_DEBUG)\n",
        "            if (self.path is not None) and (self.move_bot()):\n",
        "                break\n",
        "\n",
        "            if self.move_aliens():\n",
        "                self.display_grid(LOG_DEBUG)\n",
        "                break\n",
        "\n",
        "        self.print_rescue_output()"
      ]
    },
    {
      "cell_type": "markdown",
      "metadata": {
        "id": "DS5xIc8M4i3O"
      },
      "source": [
        "### BOT 4"
      ]
    },
    {
      "cell_type": "code",
      "execution_count": null,
      "metadata": {
        "id": "_ijJdAe_4kIe"
      },
      "outputs": [],
      "source": [
        "class Bot_4(Bot_3):\n",
        "    def __init__(self, ship, constraints, log_level=LOG_INFO):\n",
        "        super(Bot_4, self).__init__(ship, constraints, log_level)\n",
        "        self.is_escape_path = False\n",
        "\n",
        "    def clone_grid_with_alien_moves(self):\n",
        "        clone_grid = np.copy(self.local_grid)\n",
        "\n",
        "        for alien in self.alien_cells:\n",
        "            adj_cells = get_neighbors(\n",
        "                self.row_size,\n",
        "                self.column_size,\n",
        "                alien,\n",
        "                MOVEMENT_CELLS | BOT_CELL,\n",
        "                self.local_grid,\n",
        "            )\n",
        "            for cell in adj_cells:\n",
        "                if clone_grid[cell] & OPEN_CELL:\n",
        "                    clone_grid[cell] = MOVED_ALIEN_CELL\n",
        "                elif clone_grid[cell] & CAPTAIN_CELL:\n",
        "                    clone_grid[cell] = MOVED_ALIEN_CAPTAIN_CELL\n",
        "                else:\n",
        "                    clone_grid[cell] = BOT_CAUGHT_CELL\n",
        "\n",
        "        return clone_grid\n",
        "\n",
        "    def is_add_neighbor(self, grid_copy, neighbor, path_traversed):\n",
        "        ## BOT 4 V2 Logic\n",
        "        if len(path_traversed) < 6 and grid_copy[neighbor] & (\n",
        "            ALL_ALIEN_CELLS | MOVED_ALIEN_CELL | MOVED_ALIEN_CAPTAIN_CELL\n",
        "        ):\n",
        "            return False\n",
        "\n",
        "        return super(Bot_4, self).is_add_neighbor(grid_copy, neighbor, path_traversed)\n",
        "\n",
        "    def is_recalculate_path(self):\n",
        "        if self.path is None:\n",
        "            return True\n",
        "\n",
        "        is_cap_next_pos = self.path_pos + 1\n",
        "        if (is_cap_next_pos > len(self.path)) and (\n",
        "            self.local_grid[self.path[is_cap_next_pos]] & CAPTAIN_CELL\n",
        "        ):\n",
        "            return False\n",
        "\n",
        "        for itr in range(1, 5, 1):\n",
        "            next_pos = self.path_pos + 1\n",
        "            if next_pos < len(self.path):\n",
        "                if self.path[next_pos] in self.alien_cells:\n",
        "                    return True\n",
        "\n",
        "                adj_cells_for_next_move = get_neighbors(\n",
        "                    self.row_size,\n",
        "                    self.column_size,\n",
        "                    self.path[next_pos],\n",
        "                    ALL_ALIEN_CELLS,\n",
        "                    self.local_grid,\n",
        "                )\n",
        "                if adj_cells_for_next_move in self.alien_cells:\n",
        "                    return True\n",
        "\n",
        "        return False\n",
        "\n",
        "    def start_rescue(self):\n",
        "        self.start_timer()\n",
        "        while self.flag == FINDING_PATH_FLAG:\n",
        "            if self.is_stop_search():\n",
        "                break\n",
        "\n",
        "            if (\n",
        "                (not self.constraints.reduce_search_frequenzy)\n",
        "                or self.is_escape_path\n",
        "                or self.is_recalculate_path()\n",
        "            ):\n",
        "                self.is_escape_path = False\n",
        "                grid_alien_move_copy = self.clone_grid_with_alien_moves()\n",
        "\n",
        "                ## BOT 4 V1 Logic\n",
        "                # self.path = self.find_shortest_path(\n",
        "                #     self.bot_moves, MOVEMENT_CELLS, grid_alien_move_copy\n",
        "                # )\n",
        "\n",
        "                ## BOT 4 V2 Logic\n",
        "                self.path = self.find_shortest_path(\n",
        "                    self.bot_moves, RESCUE_PATH | MOVED_ALIEN_CAPTAIN_CELL | MOVED_ALIEN_CELL | ALIEN_CELL, grid_alien_move_copy\n",
        "                )\n",
        "                if self.path is None:\n",
        "                    self.path = self.escape_nearby_aliens(\n",
        "                        self.bot_moves, grid_alien_move_copy\n",
        "                    )\n",
        "                    if self.path is None:\n",
        "                        self.idle_moves += 1  # Sit and pray\n",
        "                    else:\n",
        "                        self.is_escape_path = True\n",
        "\n",
        "            self.display_grid(LOG_DEBUG)\n",
        "\n",
        "            if (self.path is not None) and (self.move_bot()):\n",
        "                break\n",
        "\n",
        "            if self.move_aliens():\n",
        "                self.display_grid(LOG_DEBUG)\n",
        "                break\n",
        "\n",
        "        self.print_rescue_output()"
      ]
    },
    {
      "cell_type": "markdown",
      "metadata": {
        "id": "pdvkXWS62Fr1"
      },
      "source": [
        "## MAIN"
      ]
    },
    {
      "cell_type": "code",
      "execution_count": null,
      "metadata": {
        "id": "P7YcyU9hlQw7"
      },
      "outputs": [],
      "source": [
        "ship = Ship(30, 10)\n",
        "ship.generate_grid()\n",
        "ship.place_players()\n",
        "# constraints = Constraints()\n",
        "constraints = Constraints(\n",
        "    int(len(ship.player_cells) * 2 / 3),\n",
        "    int(ship.grid.shape[0] * ship.grid.shape[1] * 0.8),\n",
        "    -1,\n",
        "    True,\n",
        ")"
      ]
    },
    {
      "cell_type": "code",
      "execution_count": null,
      "metadata": {
        "colab": {
          "base_uri": "https://localhost:8080/",
          "height": 559
        },
        "id": "qz6FXIvcTUdE",
        "outputId": "65c78794-7ac8-4d35-a636-ab60550ec247"
      },
      "outputs": [
        {
          "name": "stdout",
          "output_type": "stream",
          "text": [
            "[[2 2 2 ... 2 2 2]\n",
            " [2 2 1 ... 1 2 2]\n",
            " [2 2 2 ... 2 2 2]\n",
            " ...\n",
            " [2 2 1 ... 2 2 1]\n",
            " [2 1 2 ... 1 2 2]\n",
            " [1 2 2 ... 2 2 2]]\n"
          ]
        },
        {
          "data": {
            "image/png": "[encoded data removed]",
            "text/plain": [
              "<Figure size 640x480 with 1 Axes>"
            ]
          },
          "metadata": {},
          "output_type": "display_data"
        },
        {
          "name": "stdout",
          "output_type": "stream",
          "text": [
            "bot position (17, 28)\tcaptain position (30, 12)\n",
            "distance = 20.615528128088304\n"
          ]
        }
      ],
      "source": [
        "ship.show_grid()\n",
        "show_color_grid(ship.grid)\n",
        "print(f\"bot position {ship.start}\\tcaptain position {ship.goal}\")\n",
        "print(\n",
        "    f\"distance = {np.sqrt((ship.start[0] - ship.goal[0])**2 + (ship.start[1]-ship.goal[1])**2)}\"\n",
        ")"
      ]
    },
    {
      "cell_type": "code",
      "execution_count": null,
      "metadata": {
        "colab": {
          "base_uri": "https://localhost:8080/"
        },
        "id": "Y0pURsBQKUeo",
        "outputId": "3c99c50f-498d-499c-923d-20709031e906"
      },
      "outputs": [
        {
          "name": "stdout",
          "output_type": "stream",
          "text": [
            "Goal Reached!!\n",
            "[(17, 28), (17, 27), (17, 26), (18, 26), (18, 25), (18, 24), (19, 24), (20, 24), (20, 23), (20, 22), (20, 21), (20, 20), (21, 20), (22, 20), (23, 20), (24, 20), (25, 20), (26, 20), (26, 19), (26, 18), (26, 17), (26, 16), (27, 16), (27, 15), (28, 15), (28, 14), (28, 13), (29, 13), (30, 13), (30, 12)]\n",
            "no of steps taken = 30\n",
            "total iterations = 29\n"
          ]
        }
      ],
      "source": [
        "bot1 = Bot_1(ship, constraints)\n",
        "bot1.start_rescue()"
      ]
    },
    {
      "cell_type": "code",
      "execution_count": null,
      "metadata": {
        "colab": {
          "base_uri": "https://localhost:8080/"
        },
        "id": "eV8No-b4KUYl",
        "outputId": "f890751d-0725-4db5-d3f8-60842002b0b9"
      },
      "outputs": [
        {
          "name": "stdout",
          "output_type": "stream",
          "text": [
            "Goal Reached!!\n",
            "[(17, 28), (17, 27), (17, 26), (18, 26), (18, 25), (18, 24), (19, 24), (20, 24), (20, 23), (20, 22), (20, 21), (20, 20), (21, 20), (22, 20), (23, 20), (24, 20), (25, 20), (26, 20), (26, 19), (26, 18), (26, 17), (26, 16), (27, 16), (27, 15), (27, 14), (28, 14), (28, 13), (29, 13), (30, 13), (30, 12)]\n",
            "no of steps taken = 30\n",
            "total iterations = 29\n"
          ]
        }
      ],
      "source": [
        "bot2 = Bot_2(ship, constraints)\n",
        "bot2.start_rescue()"
      ]
    },
    {
      "cell_type": "code",
      "execution_count": null,
      "metadata": {
        "colab": {
          "base_uri": "https://localhost:8080/"
        },
        "id": "x-ZyfAfBKUVW",
        "outputId": "2d2f29a6-3e79-44aa-b32c-365e76ca9a0c"
      },
      "outputs": [
        {
          "name": "stdout",
          "output_type": "stream",
          "text": [
            "Goal Reached!!\n",
            "[(17, 28), (17, 27), (17, 26), (18, 26), (18, 25), (18, 24), (19, 24), (20, 24), (20, 23), (20, 22), (20, 21), (20, 20), (21, 20), (22, 20), (23, 20), (24, 20), (25, 20), (26, 20), (27, 20), (28, 20), (29, 20), (30, 20), (30, 19), (30, 18), (30, 17), (30, 16), (31, 16), (31, 15), (32, 15), (33, 15), (33, 14), (34, 14), (34, 13), (34, 12), (34, 11), (34, 10), (33, 10), (32, 10), (32, 11), (31, 11), (31, 12), (30, 12)]\n",
            "no of steps taken = 42\n",
            "total iterations = 41\n"
          ]
        }
      ],
      "source": [
        "bot3 = Bot_3(ship, constraints)\n",
        "bot3.start_rescue()"
      ]
    },
    {
      "cell_type": "code",
      "execution_count": null,
      "metadata": {
        "colab": {
          "base_uri": "https://localhost:8080/"
        },
        "id": "-C_CwO7L5gmY",
        "outputId": "c64a6ac2-2662-4371-df94-44ec07ed45f8"
      },
      "outputs": [
        {
          "name": "stdout",
          "output_type": "stream",
          "text": [
            "Goal Reached!!\n",
            "[(17, 28), (17, 27), (17, 26), (18, 26), (18, 25), (18, 24), (19, 24), (20, 24), (20, 23), (20, 22), (20, 21), (20, 20), (21, 20), (22, 20), (23, 20), (24, 20), (25, 20), (26, 20), (27, 20), (28, 20), (29, 20), (30, 20), (30, 19), (30, 18), (30, 17), (30, 16), (31, 16), (31, 15), (32, 15), (33, 15), (33, 14), (34, 14), (34, 13), (34, 12), (34, 11), (34, 10), (33, 10), (32, 10), (32, 11), (31, 11), (31, 12), (30, 12)]\n",
            "no of steps taken = 42\n",
            "total iterations = 41\n"
          ]
        }
      ],
      "source": [
        "bot4 = Bot_4(ship, constraints)\n",
        "bot4.start_rescue()"
      ]
    },
    {
      "cell_type": "code",
      "execution_count": null,
      "metadata": {
        "id": "ab_YceM45iQ7"
      },
      "outputs": [],
      "source": [
        "del bot4\n",
        "del bot3\n",
        "del bot2\n",
        "del bot1\n",
        "del constraints\n",
        "del ship"
      ]
    },
    {
      "cell_type": "markdown",
      "metadata": {
        "id": "CuQb7Snq0Dvh"
      },
      "source": [
        "#PLOTTING THE DATA"
      ]
    },
    {
      "cell_type": "markdown",
      "metadata": {
        "id": "z9iP28GiC3w9"
      },
      "source": [
        "## IMPORTS"
      ]
    },
    {
      "cell_type": "code",
      "execution_count": null,
      "metadata": {
        "id": "PHTaF6CkC1pk"
      },
      "outputs": [],
      "source": [
        "import sys"
      ]
    },
    {
      "cell_type": "markdown",
      "metadata": {
        "id": "nv6sl2nBCzQz"
      },
      "source": [
        "## CONSTANTS"
      ]
    },
    {
      "cell_type": "code",
      "execution_count": null,
      "metadata": {
        "id": "sf8Xn-_ZCxGw"
      },
      "outputs": [],
      "source": [
        "DEFAULT_MAX_MOVES = 1000\n",
        "MAX_ALIEN_LIMIT = 120\n",
        "TOTAL_RUNS = 250\n",
        "GRID_SIZE = 10\n",
        "INITIAL_ALIENS = 0\n",
        "ALIEN_INC_COUNT = 3\n",
        "\n",
        "CONSTRAINT_LEVELS = {\n",
        "    0: 'no_constraints',\n",
        "    1: 'constraint_1',\n",
        "    2: 'constraint_2',\n",
        "    3: 'constraint_3'\n",
        "}\n",
        "\n",
        "ALL_CONSTRAINTS = list(CONSTRAINT_LEVELS.values())\n",
        "\n",
        "BOT_NOS = {\n",
        "    1: 'bot_1',\n",
        "    2: 'bot_2',\n",
        "    3: 'bot_3',\n",
        "    4: 'bot_4',\n",
        "}\n",
        "\n",
        "ALL_BOTS = list(BOT_NOS.values())"
      ]
    },
    {
      "cell_type": "markdown",
      "metadata": {
        "id": "2mHn1PoFEB0L"
      },
      "source": [
        "## BOT FACTORY"
      ]
    },
    {
      "cell_type": "code",
      "execution_count": null,
      "metadata": {
        "id": "ZNZWV5YVD-3r"
      },
      "outputs": [],
      "source": [
        "def constraints_factory(constraint_levels, ship):\n",
        "    constraints = []\n",
        "    open_cells = len(ship.player_cells) # Shd check player cells and reset for accuracy\n",
        "    max_moves_allowed = DEFAULT_MAX_MOVES\n",
        "    if CONSTRAINT_LEVELS[0] in constraint_levels:\n",
        "        constraints.append(Constraints(-1, max_moves_allowed))  # No constraints,\n",
        "    if CONSTRAINT_LEVELS[1] in constraint_levels:\n",
        "        constraints.append(Constraints(\n",
        "            int(open_cells * 0.8), int(max_moves_allowed * 0.04), -1, True\n",
        "        ))  # max queue size is capped at 80% the number of available cells\n",
        "    if CONSTRAINT_LEVELS[2] in constraint_levels:\n",
        "        constraints.append(Constraints(\n",
        "            int(open_cells * 2 / 3), int(max_moves_allowed * 0.025), -1, True\n",
        "        ))  # capped at 66.6667%\n",
        "    if CONSTRAINT_LEVELS[3] in constraint_levels:\n",
        "        constraints.append(Constraints(\n",
        "            int(open_cells * 0.5), int(max_moves_allowed * 0.1), -1, True\n",
        "        ))  # capped to 50%\n",
        "    return constraints\n",
        "\n",
        "\n",
        "def bots_factory(bot_nos, ship, constraints):\n",
        "    bots = []\n",
        "    if BOT_NOS[1] in bot_nos:\n",
        "        bots.append(Bot_1(ship, constraints, LOG_NONE))\n",
        "    if BOT_NOS[2] in bot_nos:\n",
        "        bots.append(Bot_2(ship, constraints, LOG_NONE))\n",
        "    if BOT_NOS[3] in bot_nos:\n",
        "        bots.append(Bot_3(ship, constraints, LOG_NONE))\n",
        "    if BOT_NOS[4] in bot_nos:\n",
        "        bots.append(Bot_4(ship, constraints, LOG_NONE))\n",
        "    return bots"
      ]
    },
    {
      "cell_type": "markdown",
      "metadata": {
        "id": "ARb7I67TGKxC"
      },
      "source": [
        "## PLOT GENERATION"
      ]
    },
    {
      "cell_type": "code",
      "execution_count": null,
      "metadata": {
        "id": "r6meHgd5GNYB"
      },
      "outputs": [],
      "source": [
        "def generate_final_plot(success_rate_set, survival_rate_set, alien_count_set, constraint_levels, bot_nos):\n",
        "    for itr, data_set in enumerate([success_rate_set, survival_rate_set]):\n",
        "        category = 'Success' if itr == 0 else 'Survival'\n",
        "        for itrc, constraint_level in enumerate(constraint_levels):\n",
        "            for itrb, bot_no in enumerate(bot_nos):\n",
        "                avg_data = []\n",
        "                for alien_count in alien_count_set:\n",
        "                    avg_data.append(data_set[alien_count][itrc][itrb])\n",
        "                plt.plot(alien_count_set, avg_data, marker='o', label=bot_no)\n",
        "            # Adding labels and title\n",
        "            plt.xlabel('Number of Aliens')\n",
        "            plt.ylabel(f'{category} Rate')\n",
        "            plt.title(f'{category} Rate of Multiple Bots vs Number of Aliens for constraint: {constraint_level}')\n",
        "\n",
        "            # Adding legend\n",
        "            plt.legend()\n",
        "\n",
        "            # Displaying the plot\n",
        "            plt.grid(True)\n",
        "            img_name = category + \"_\" + constraint_level + \".png\"\n",
        "            plt.savefig(img_name, bbox_inches='tight')\n",
        "            plt.show()"
      ]
    },
    {
      "cell_type": "markdown",
      "metadata": {
        "id": "pCe52_VzF5of"
      },
      "source": [
        "## SIMULATION"
      ]
    },
    {
      "cell_type": "code",
      "execution_count": null,
      "metadata": {
        "id": "D2ppnrGN0CiE"
      },
      "outputs": [],
      "source": [
        "def execute_bot(bot, bot_no, constraint_level):\n",
        "    try:\n",
        "        bot.start_rescue()\n",
        "        return bot.status\n",
        "    except Exception as e:\n",
        "        print(\n",
        "            f\"Error occurred while executing bot:{bot_no} constraint: {constraint_level}.\",\n",
        "            e,\n",
        "            file=sys.stderr,\n",
        "        )\n",
        "        sys.exit(0)\n",
        "        return BOT_FAILURE\n",
        "    finally:\n",
        "        del bot\n",
        "\n",
        "\n",
        "def run_simulations(bot_nos, constraint_levels):\n",
        "    alien_count = INITIAL_ALIENS\n",
        "    alien_count_set = []\n",
        "    success_rate_set = {}\n",
        "    survival_rate_set = {}\n",
        "    total_constraints = len(constraint_levels)\n",
        "    total_bots = len(bot_nos)\n",
        "\n",
        "    alien_count_limit = np.zeros((total_constraints, total_bots))\n",
        "    alien_limit_set =  np.zeros((total_constraints, total_bots))\n",
        "\n",
        "    while alien_count <= MAX_ALIEN_LIMIT:\n",
        "        success_count = np.zeros((total_constraints, total_bots))\n",
        "        survival_count = np.zeros((total_constraints, total_bots))\n",
        "        failed_count = np.zeros((total_constraints, total_bots))\n",
        "        success_rate = np.zeros((total_constraints, total_bots))\n",
        "        survival_rate = np.zeros((total_constraints, total_bots))\n",
        "\n",
        "        for itr in range(TOTAL_RUNS):\n",
        "            print('Roomba is trying to save for the %d\\'th time. Imagine evading %d aliens.' % (itr, alien_count), end='\\r')\n",
        "            ship = BonusShipV2(GRID_SIZE, alien_count)\n",
        "            ship.generate_grid()\n",
        "            ship.place_players()\n",
        "\n",
        "            constraints_set = constraints_factory(constraint_levels, ship)\n",
        "            for itrc, constraints in enumerate(constraints_set):\n",
        "                bots = bots_factory(bot_nos, ship, constraints)\n",
        "                for itrb, bot in enumerate(bots):\n",
        "                    status = execute_bot(bot, bot_nos[itrb], constraint_levels[itrc])\n",
        "                    if status == BOT_SUCCESS:\n",
        "                        success_count[itrc][itrb] += 1\n",
        "                    else:\n",
        "                        if status == BOT_STUCK:\n",
        "                            survival_count[itrc][itrb] += 1\n",
        "                        failed_count[itrc][itrb] += 1\n",
        "                del constraints\n",
        "\n",
        "            del ship\n",
        "        print(f'Roomba is soooo done with {alien_count} aliens, it will never visit them again!!!!')\n",
        "\n",
        "        for itrc in range(total_constraints):\n",
        "            for itrb in range(total_bots):\n",
        "                succeeded = success_count[itrc][itrb]\n",
        "                survived = survival_count[itrc][itrb]\n",
        "                failed = failed_count[itrc][itrb]\n",
        "\n",
        "                success_rate[itrc][itrb] = (succeeded / TOTAL_RUNS) * 100\n",
        "                # if both are 0, proceed to set survival_rate 0\n",
        "                if not (survived and failed):\n",
        "                    failed = 1\n",
        "                survival_rate[itrc][itrb] = survived / (survived + failed) * 100\n",
        "\n",
        "                if (success_rate[itrc][itrb] == 0) and (not alien_limit_set[itrc][itrb]):\n",
        "                    alien_count_limit[itrc][itrb] = alien_count\n",
        "                    alien_limit_set[itrc][itrb] = True\n",
        "        success_rate_set[alien_count] = success_rate\n",
        "        survival_rate_set[alien_count] = survival_rate\n",
        "        alien_count_set.append(alien_count)\n",
        "        alien_count += ALIEN_INC_COUNT\n",
        "\n",
        "    generate_final_plot(success_rate_set, survival_rate_set, alien_count_set, constraint_levels, bot_nos)\n",
        "    print('K where bot get outperformed by aliens::: ', alien_count_limit)"
      ]
    },
    {
      "cell_type": "markdown",
      "metadata": {
        "id": "e8yJHNCuEgVG"
      },
      "source": [
        "## MAIN"
      ]
    },
    {
      "cell_type": "code",
      "execution_count": null,
      "metadata": {
        "colab": {
          "background_save": true,
          "base_uri": "https://localhost:8080/"
        },
        "id": "aSY8MjnaEeZ8",
        "outputId": "0b1a9481-e68d-4749-f5f2-2c4091b787a1"
      },
      "outputs": [
        {
          "name": "stdout",
          "output_type": "stream",
          "text": [
            "Will the space roomba save the captain?\n",
            "Let's start saving...\n",
            "Roomba is soooo done with 0 aliens, it will never visit them again!!!!\n",
            "Roomba is soooo done with 2 aliens, it will never visit them again!!!!\n",
            "Roomba is soooo done with 4 aliens, it will never visit them again!!!!\n",
            "Roomba is soooo done with 6 aliens, it will never visit them again!!!!\n",
            "Roomba is soooo done with 8 aliens, it will never visit them again!!!!\n"
          ]
        }
      ],
      "source": [
        "print(f\"Will the space roomba save the captain?\")\n",
        "print(f\"Let's start saving...\")\n",
        "timer_start = time.process_time()\n",
        "bot_nos = ALL_BOTS # Could be array of bot in asc no like ['bot_1', 'bot_2']\n",
        "constraint_levels = ALL_CONSTRAINTS  # Array of constraint levels in asc like ['no_constraint', 'constraint_3']\n",
        "\n",
        "run_simulations(bot_nos, constraint_levels)\n",
        "\n",
        "timer_end = time.process_time()\n",
        "timer_elapsed = timer_end - timer_start\n",
        "print(f\"It took us {timer_elapsed} seconds to save idk how many times.\")\n",
        "print(\"***cue the music*** But, I can still do this day ***cue the music***\")"
      ]
    }
  ],
  "metadata": {
    "colab": {
      "provenance": [],
      "toc_visible": true,
      "include_colab_link": true
    },
    "kernelspec": {
      "display_name": "Python 3",
      "name": "python3"
    },
    "language_info": {
      "name": "python"
    }
  },
  "nbformat": 4,
  "nbformat_minor": 0
}