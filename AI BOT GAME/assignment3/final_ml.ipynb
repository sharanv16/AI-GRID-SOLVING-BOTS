{
 "cells": [
  {
   "cell_type": "code",
   "execution_count": 428,
   "id": "7892ca62-4f40-4b6f-9e99-4aef31fc4061",
   "metadata": {
    "id": "7892ca62-4f40-4b6f-9e99-4aef31fc4061"
   },
   "outputs": [],
   "source": [
    "import pandas as pd\n",
    "import numpy as np\n",
    "import math\n",
    "from random import choice\n",
    "from sklearn.preprocessing import LabelEncoder\n",
    "from sklearn.model_selection import train_test_split\n",
    "from sklearn.linear_model import LogisticRegression\n",
    "from sklearn.metrics import accuracy_score\n",
    "from matplotlib import pyplot\n",
    "from sklearn.model_selection import train_test_split\n",
    "from sklearn.linear_model import LinearRegression\n",
    "from sklearn.metrics import mean_squared_error\n",
    "from sklearn.tree import DecisionTreeRegressor\n",
    "from sklearn.metrics import mean_squared_error\n",
    "from sklearn.model_selection import cross_val_score\n",
    "from sklearn.metrics import accuracy_score\n",
    "from ast import literal_eval\n",
    "import AI_Proj3\n",
    "import run_simulations\n",
    "from multiprocess import Pool, cpu_count\n",
    "from sklearn.metrics import mean_absolute_error\n",
    "from sys import getsizeof\n",
    "import pickle\n",
    "import os\n",
    "import csv"
   ]
  },
  {
   "cell_type": "code",
   "execution_count": 429,
   "id": "d5c50251-4f2f-4a66-8a29-a8b6526b28bd",
   "metadata": {},
   "outputs": [],
   "source": [
    "import warnings\n",
    "warnings.filterwarnings('ignore')"
   ]
  },
  {
   "cell_type": "code",
   "execution_count": 430,
   "id": "bced1573-c715-4748-b728-9b2065977ddb",
   "metadata": {},
   "outputs": [],
   "source": [
    "is_general = True"
   ]
  },
  {
   "cell_type": "code",
   "execution_count": 431,
   "id": "5cf099b7-8972-4b36-957d-a4e645749564",
   "metadata": {},
   "outputs": [],
   "source": [
    "label_encoder = LabelEncoder()\n",
    "closed_cells_encoder = LabelEncoder()\n",
    "walls_encoder = LabelEncoder()"
   ]
  },
  {
   "cell_type": "markdown",
   "id": "aa2e2386-8319-4d9e-b286-8465b73c6d10",
   "metadata": {},
   "source": [
    "Functions"
   ]
  },
  {
   "cell_type": "code",
   "execution_count": 432,
   "id": "76935c00-e549-45f7-b94a-8f5e3b2919f2",
   "metadata": {},
   "outputs": [],
   "source": [
    "def parse_tuple(cell):\n",
    "    parts = cell.strip('()').split(',')\n",
    "    return tuple(int(part.strip()) for part in parts)\n",
    "\n",
    "def clean_Bot_Move(row, df):\n",
    "    crew_cell = parse_tuple(row['Crew_Pos'])\n",
    "    if crew_cell[0] == 5 and crew_cell[1] == 5:\n",
    "        return None\n",
    "    else:\n",
    "        next_row_index = row.name + 1  # Get the index of the next row\n",
    "        if next_row_index < len(df):\n",
    "            return df.at[next_row_index, 'Bot_Pos']  # Return Bot_Cell value from the next row\n",
    "            \n",
    "def parse_coordinates(coord_str):\n",
    "    if coord_str:\n",
    "        x, y = map(int, coord_str.strip(\"()\").split(\",\"))\n",
    "        return x, y\n",
    "    else:\n",
    "        return None\n",
    "\n",
    "def calculate_direction(row):\n",
    "    bot_cell = parse_coordinates(row['Bot_Cell'])\n",
    "    bot_move = parse_coordinates(row['Bot_Move'])\n",
    "\n",
    "    if bot_cell and bot_move:\n",
    "        delta_x = bot_move[0] - bot_cell[0]\n",
    "        delta_y = bot_move[1] - bot_cell[1]\n",
    "\n",
    "        if delta_x == 0 and delta_y == 0:\n",
    "            return \"No movement\"\n",
    "        elif delta_x == 0:\n",
    "            return \"North\" if delta_y > 0 else \"South\"\n",
    "        elif delta_y == 0:\n",
    "            return \"East\" if delta_x > 0 else \"West\"\n",
    "        elif delta_x > 0:\n",
    "            return \"Northeast\" if delta_y > 0 else \"Southeast\"\n",
    "        else:\n",
    "            return \"Northwest\" if delta_y > 0 else \"Southwest\"\n",
    "    else:\n",
    "        return \"Invalid coordinates\"\n",
    "\n",
    "def map_coordinates_to_integer(row,celltype):\n",
    "    cell = parse_coordinates(row[celltype])\n",
    "    cols = 11\n",
    "    return cell[0] * cols + cell[1] + 1\n",
    "\n",
    "def encode_list_of_tuples(lst):\n",
    "    return ','.join([str(x) for x in lst])\n",
    "\n",
    "def convert_tuples(cell):\n",
    "    return literal_eval(cell)\n",
    "\n",
    "def lengthSquare(X, Y):\n",
    "    xDiff = X[0] - Y[0]\n",
    "    yDiff = X[1] - Y[1]\n",
    "    return xDiff * xDiff + yDiff * yDiff\n",
    "\n",
    "def getAngle(a, b):\n",
    "    c = (5, 5)\n",
    "    a2 = lengthSquare(a, c)\n",
    "    b2 = lengthSquare(b, c)\n",
    "    c2 = lengthSquare(a, b)\n",
    "    return math.acos((a2 + b2 - c2) / (2 * math.sqrt(a2) * math.sqrt(b2)))#(math.acos((a2 + b2 - c2) / (2 * math.sqrt(a2) * math.sqrt(b2))) * 180 / math.pi);\n",
    "\n",
    "def parse_angles(row):\n",
    "    crew_cell = parse_tuple(row['Crew_Cell'])\n",
    "    bot_cell = parse_tuple(row['Bot_Cell'])\n",
    "    return getAngle(bot_cell, crew_cell)"
   ]
  },
  {
   "cell_type": "markdown",
   "id": "31c03c41-4776-41d9-a642-5a08d4a3ccf2",
   "metadata": {
    "id": "31c03c41-4776-41d9-a642-5a08d4a3ccf2"
   },
   "source": [
    "READ AND PREPROCESS DATA"
   ]
  },
  {
   "cell_type": "code",
   "execution_count": 433,
   "id": "792ce316-b055-45ba-ae68-27a7e6d67bb2",
   "metadata": {
    "id": "b9b80195-bf7e-42b6-bfcc-7ee4e2689279"
   },
   "outputs": [],
   "source": [
    "def process_data():\n",
    "    path = \"general/final_data.csv\" if is_general else 'single/final_data.csv' \n",
    "    df = pd.read_csv(path)\n",
    "\n",
    "    df['bot_x'] = df['Bot_Pos'].apply(lambda x: int(x.split(',')[0].strip('()')))\n",
    "    df['bot_y'] = df['Bot_Pos'].apply(lambda x: int(x.split(',')[1].strip('()')))\n",
    "    df['crew_x'] = df['Crew_Pos'].apply(lambda x: int(x.split(',')[0].strip('()')))\n",
    "    df['crew_y'] = df['Crew_Pos'].apply(lambda x: int(x.split(',')[1].strip('()')))\n",
    "\n",
    "    df['Distance_from_bot_to_crew'] = abs(df['bot_x'] - df['crew_x']) + abs(df['bot_y'] - df['crew_y'])\n",
    "\n",
    "    df.drop(['crew_x', 'crew_y', 'bot_x', 'bot_y'], axis=1, inplace=True)\n",
    "    df['Bot_Move'] = df['Bot_Pos'].shift(-1)\n",
    "    df['Bot_Move'] = df.apply(lambda row: clean_Bot_Move(row, df), axis=1)\n",
    "    df =df.dropna()\n",
    "\n",
    "\n",
    "    df[\"Bot_Cell_Encoded\"] = df.apply(lambda row: map_coordinates_to_integer(row,\"Bot_Pos\"), axis=1)\n",
    "    df[\"Crew_Cell_Encoded\"] = df.apply(lambda row: map_coordinates_to_integer(row,\"Crew_Pos\"), axis=1)\n",
    "    df[\"Bot_Move_Encoded\"] = df.apply(lambda row: map_coordinates_to_integer(row,\"Bot_Move\"), axis=1)\n",
    "\n",
    "    df['Closed_Cells_Encoded'] = df['Closed_Cells'].apply(encode_list_of_tuples)\n",
    "    df['Closed_Cells_Encoded'] = closed_cells_encoder.fit_transform(df['Closed_Cells_Encoded'])\n",
    "    df['Walls_Encoded'] = df['Wall_Cells'].apply(encode_list_of_tuples)\n",
    "    df['Walls_Encoded'] = walls_encoder.fit_transform(df['Walls_Encoded'])\n",
    "\n",
    "    label_encoded_df = df.copy()\n",
    "\n",
    "    \n",
    "    label_encoded_df = label_encoded_df.drop('Bot_Pos',axis =1)\n",
    "    label_encoded_df = label_encoded_df.drop('Crew_Pos',axis =1)\n",
    "    label_encoded_df = label_encoded_df.drop('Bot_Move',axis =1)\n",
    "    label_encoded_df = label_encoded_df.drop('Closed_Cells',axis =1)\n",
    "    label_encoded_df = label_encoded_df.drop('Wall_Cells',axis =1)\n",
    "\n",
    "\n",
    "    return label_encoded_df"
   ]
  },
  {
   "cell_type": "markdown",
   "id": "8fd883b8-8cda-4d59-9585-8adb1db66b42",
   "metadata": {
    "id": "8fd883b8-8cda-4d59-9585-8adb1db66b42"
   },
   "source": [
    "TRAIN TEST SPLIT"
   ]
  },
  {
   "cell_type": "code",
   "execution_count": 434,
   "id": "646ffb8f-93fc-455c-ab69-2282424043e1",
   "metadata": {
    "id": "646ffb8f-93fc-455c-ab69-2282424043e1"
   },
   "outputs": [],
   "source": [
    "def train_data(data):\n",
    "    final_data = data.copy()\n",
    "    final_data = final_data.dropna()\n",
    "    X = final_data.drop('Bot_Move_Encoded', axis=1)\n",
    "    y = final_data['Bot_Move_Encoded']\n",
    "    X_train, X_test, y_train, y_test = train_test_split(X, y, test_size=0.2, random_state=42)\n",
    "    return X_train, X_test, y_train, y_test"
   ]
  },
  {
   "cell_type": "markdown",
   "id": "c94c1725-4f74-4038-846e-00f0e35d605b",
   "metadata": {
    "id": "c94c1725-4f74-4038-846e-00f0e35d605b"
   },
   "source": [
    "MODELS"
   ]
  },
  {
   "cell_type": "markdown",
   "id": "7f91a563-7778-4b7c-9eb7-22f12b9cebe1",
   "metadata": {
    "id": "7f91a563-7778-4b7c-9eb7-22f12b9cebe1"
   },
   "source": [
    "DECISION TREE REGRESSOR"
   ]
  },
  {
   "cell_type": "code",
   "execution_count": 435,
   "id": "2b2d2a53-f525-425b-9e65-2706b9b60b6b",
   "metadata": {
    "colab": {
     "base_uri": "https://localhost:8080/"
    },
    "id": "2b2d2a53-f525-425b-9e65-2706b9b60b6b",
    "outputId": "c2d23abf-f18c-429a-fba7-29ae0237932b"
   },
   "outputs": [],
   "source": [
    "def Decision_Tree_Regressor(X_train, X_test, y_train, y_test):\n",
    "    model = DecisionTreeRegressor()\n",
    "    model.fit(X_train, y_train)\n",
    "    y_pred = model.predict(X_test)\n",
    "    return y_test, y_pred, X_train,model"
   ]
  },
  {
   "cell_type": "markdown",
   "id": "b732175a-68a7-44ae-a285-7987236b3d13",
   "metadata": {},
   "source": [
    "Accuracy"
   ]
  },
  {
   "cell_type": "code",
   "execution_count": 436,
   "id": "623fc7c0-a2cf-4745-aacd-d0fa667ff6fc",
   "metadata": {},
   "outputs": [],
   "source": [
    "def reg_metrics(y_test, y_pred, X_train):\n",
    "    from sklearn.metrics import mean_squared_error, r2_score \n",
    "\n",
    "    rmse = np.sqrt(mean_squared_error(y_test,y_pred))\n",
    "    r2 = r2_score(y_test,y_pred)\n",
    "    n = y_pred.shape[0]\n",
    "    k = X_train.shape[1]\n",
    "    adj_r_sq = 1 - (1 - r2)*(n-1)/(n-1-k)\n",
    "    print(\"rmse:\", rmse)\n",
    "    print(\"r2:\", r2)\n",
    "    print(\"adj_r_sq:\", adj_r_sq)\n",
    "\n"
   ]
  },
  {
   "cell_type": "code",
   "execution_count": 437,
   "id": "70875655-6640-407f-9b54-c55e26eaf867",
   "metadata": {},
   "outputs": [],
   "source": [
    "threshold = 1\n",
    "def create_model():\n",
    "    data  = process_data()\n",
    "    X_train, X_test, y_train, y_test = train_data(data)\n",
    "    y_test, y_pred, X_train,model = Decision_Tree_Regressor(X_train, X_test, y_train, y_test)\n",
    "    predictions = model.predict(X_test)\n",
    "    mae = mean_absolute_error(y_test, predictions)\n",
    "    accuracy = ((y_test - predictions) < threshold).mean()\n",
    "    print(model, X_train.shape, X_test.shape, y_train.shape, y_test.shape)\n",
    "    print(\"mean_absolute_error for this case::\", mae)\n",
    "    print(\"accuracy for this case::\", accuracy)\n",
    "    return model\n",
    "        "
   ]
  },
  {
   "cell_type": "code",
   "execution_count": 438,
   "id": "eeff31da-c925-469a-ae45-d871009c08c2",
   "metadata": {},
   "outputs": [],
   "source": [
    "def predict_model(model,input):\n",
    "    Xnew = input\n",
    "    ynew = model.predict(Xnew)\n",
    "    return int(ynew)"
   ]
  },
  {
   "cell_type": "code",
   "execution_count": 439,
   "id": "79d2711d-1a48-48b3-8099-448e49dd8c38",
   "metadata": {},
   "outputs": [
    {
     "name": "stdout",
     "output_type": "stream",
     "text": [
      "Testing for general bot\n",
      "Data set size is 50 layouts\n",
      "DecisionTreeRegressor() (173760, 5) (43441, 5) (173760,) (43441,)\n",
      "mean_absolute_error for this case:: 0.41336525402269747\n",
      "accuracy for this case:: 0.9692456435164937\n"
     ]
    }
   ],
   "source": [
    "#create the model\n",
    "case_name = \"general bot\" if is_general else \"learnt bot\"\n",
    "print(f\"Testing for {case_name}\")\n",
    "print(f\"Data set size is 50 layouts\")\n",
    "model = create_model()"
   ]
  },
  {
   "cell_type": "code",
   "execution_count": 302,
   "id": "3eee83cc",
   "metadata": {},
   "outputs": [],
   "source": [
    "check_ship = LEARN_CONFIG(model)\n",
    "check_ship.perform_initial_calcs()\n",
    "global_model_size = pickle.dumps(model) #storing model size globally"
   ]
  },
  {
   "cell_type": "markdown",
   "id": "2b206e99",
   "metadata": {},
   "source": [
    "SOLVE THE GRID"
   ]
  },
  {
   "cell_type": "code",
   "execution_count": 440,
   "id": "37f06491-f912-47db-ab47-1410766f1684",
   "metadata": {},
   "outputs": [],
   "source": [
    "class LEARN_CONFIG(AI_Proj3.SHIP):\n",
    "    def __init__(self, model, is_import = False):\n",
    "        super(LEARN_CONFIG, self).__init__(is_import)\n",
    "        self.best_policy_lookup = []\n",
    "        if is_import:\n",
    "            self.import_ship()\n",
    "\n",
    "        self.model = model\n",
    "        self.closed_encoded = encode_list_of_tuples(self.closed_cells)\n",
    "        self.closed_encoded = closed_cells_encoder.fit_transform([self.closed_encoded])\n",
    "        self.walls_encoded = encode_list_of_tuples(self.wall_cells)\n",
    "        self.walls_encoded = walls_encoder.fit_transform([self.walls_encoded])\n",
    "\n",
    "    def import_ship(self):\n",
    "        file_name = os.path.join(\"single\", \"layout.csv\")\n",
    "        data_frame = pd.read_csv(file_name)\n",
    "        for itr, keys in enumerate([\"Closed_Cells\", \"Wall_Cells\"]):\n",
    "            for data in data_frame[keys]:\n",
    "                closed_cells_data = literal_eval(data)\n",
    "                for cell in closed_cells_data:\n",
    "                    self.set_state(cell, AI_Proj3.CLOSED_CELL)\n",
    "                    self.open_cells.remove(cell)\n",
    "                    if itr == 0:\n",
    "                        self.closed_cells.append(cell)\n",
    "                    else:\n",
    "                        self.wall_cells.append(cell)\n",
    "\n",
    "        self.set_teleport()\n",
    "        self.place_players()\n",
    "\n",
    "    def visualize_grid(self, is_end = True): #pynb doesn't update the same image...\n",
    "        if (not VISUALIZE) or (VISUALIZE and (not (self.ship.get_state(self.local_bot_pos) & BOT_CELL))):\n",
    "            return\n",
    "\n",
    "        data = []\n",
    "        for i in range(self.ship.size):\n",
    "            inner_list = []\n",
    "            for j in range(self.ship.size):\n",
    "                inner_list.append(self.ship.get_state((i, j)))\n",
    "\n",
    "            data.append(inner_list)\n",
    "        self.fig, self.ax = pyplot.subplots()\n",
    "        self.image = pyplot.imshow(data, cmap='tab20')\n",
    "        self.init_plots = True\n",
    "\n",
    "        self.image.set_data(data)\n",
    "        self.fig.canvas.draw_idle()\n",
    "        pyplot.pause(.5)\n",
    "\n",
    "        if is_end:\n",
    "            pyplot.close(self.fig)\n",
    "\n",
    "\n",
    "class LEARN_BOT(AI_Proj3.BOT_CONFIG):\n",
    "    def __init__(self, ship):\n",
    "        super(LEARN_BOT, self).__init__(ship)\n",
    "        self.ship = ship\n",
    "    \n",
    "    def move_bot(self):\n",
    "        bot_pos = self.local_bot_pos\n",
    "        #print(\"bot_pos\",bot_pos)\n",
    "        crew_pos = self.local_crew_pos\n",
    "        crew_pos_encoded = crew_pos[0] * self.ship.size + crew_pos[1] + 1\n",
    "        bot_pos_encoded = bot_pos[0] * self.ship.size + bot_pos[1] + 1\n",
    "        distance = AI_Proj3.get_manhattan_distance(bot_pos, crew_pos)\n",
    "        #print(\"bot\",bot_pos_encoded)\n",
    "        #print(\"crew\",crew_pos_encoded)\n",
    "        \n",
    "        X_input = [[distance, bot_pos_encoded, crew_pos_encoded, self.ship.closed_encoded[0], self.ship.walls_encoded[0]]]\n",
    "        op = predict_model(self.ship.model, X_input)\n",
    "        #print(\"OP\",op)\n",
    "        bot_x = (op - 1) % 11\n",
    "        bot_y = (op - 1) // 11\n",
    "        next_pos = (bot_y, bot_x)\n",
    "        #print(\"bot_next move\",next_pos)\n",
    "        if 0 <= next_pos[0] < self.ship.size and 0 <= next_pos[1] < self.ship.size:\n",
    "            for move in self.local_all_moves:\n",
    "                bot_move = (bot_pos[0] + move[0], bot_pos[1] + move[1])\n",
    "                #print(\"next_move\", bot_move, next_pos)\n",
    "                if bot_move == next_pos:\n",
    "                    state = self.ship.get_state(next_pos)\n",
    "                    self.action_result = state\n",
    "                    if state != AI_Proj3.CLOSED_CELL and state != AI_Proj3.CREW_CELL:\n",
    "                        #print(next_pos)\n",
    "                        self.make_bot_move(next_pos)\n",
    "                        return\n",
    "        else:\n",
    "            print(\"fail\")"
   ]
  },
  {
   "cell_type": "code",
   "execution_count": 441,
   "id": "7da420b5-5bb5-467d-8ec3-332de871fd3c",
   "metadata": {},
   "outputs": [],
   "source": [
    "def print_data(detail):\n",
    "    print(\"%18s %18s %18s %18s %18s %18s %18s %18s %18s %18s\" % (\"Avg Suc Moves\", \"Success Rate\", \"Min Suc. Moves\", \"Max Suc. Moves\", \"Avg Caught Moves\", \"Caught Rate\", \"Avg Fail Moves\", \"Failure Rate\", \"Avg Bot Crew Dist\", \"Crew Teleport Dist\"))\n",
    "    print((\"%18s %18s %18s %18s %18s %18s %18s %18s %18s %18s\" % (detail.s_moves, detail.success, detail.min_success, detail.max_success, detail.c_moves, detail.caught, detail.f_moves, detail.failure, detail.distance, detail.dest_dist)))"
   ]
  },
  {
   "cell_type": "code",
   "execution_count": 442,
   "id": "e8832f5c-8edd-401d-8547-7dc809c90f94",
   "metadata": {},
   "outputs": [],
   "source": [
    "def run_single():\n",
    "    AI_Proj3.VISUALIZE=False\n",
    "    avg_moves = run_simulations.DETAILS()\n",
    "    indiiters = 1000\n",
    "    ship = LEARN_CONFIG(model, True)\n",
    "    ship.perform_initial_calcs()\n",
    "    for _ in range(indiiters):\n",
    "        moves, result = LEARN_BOT(ship).start_rescue()\n",
    "        if result:\n",
    "            avg_moves.update_min_max(moves)\n",
    "            avg_moves.s_moves += moves\n",
    "            avg_moves.success += 1\n",
    "        else:\n",
    "            avg_moves.f_moves += moves\n",
    "            avg_moves.failure += 1\n",
    "\n",
    "        avg_moves.distance += AI_Proj3.get_manhattan_distance(ship.bot_pos, ship.crew_pos)\n",
    "        avg_moves.dest_dist += AI_Proj3.get_manhattan_distance(ship.crew_pos, ship.teleport_cell)\n",
    "        ship.reset_positions()\n",
    "    model_size = pickle.dumps(model)\n",
    "    print(\"Size of model vs Best policy lookup for learnt bot case\", getsizeof(model_size), getsizeof(ship.best_policy_lookup))\n",
    "    run_simulations.print_header()\n",
    "    run_simulations.print_data(avg_moves, 2, indiiters)\n",
    "    del ship\n",
    "    return avg_moves"
   ]
  },
  {
   "cell_type": "code",
   "execution_count": 443,
   "id": "627a7554",
   "metadata": {},
   "outputs": [],
   "source": [
    "def run_test(ship_iters):\n",
    "    AI_Proj3.VISUALIZE=False\n",
    "    avg_moves = run_simulations.DETAILS()\n",
    "    indiiters = 1000\n",
    "    for i in range(ship_iters):\n",
    "        ship = LEARN_CONFIG(model)\n",
    "        for _ in range(indiiters):\n",
    "            moves, result = LEARN_BOT(ship).start_rescue()\n",
    "            if result:\n",
    "                avg_moves.update_min_max(moves)\n",
    "                avg_moves.s_moves += moves\n",
    "                avg_moves.success += 1\n",
    "            else:\n",
    "                avg_moves.f_moves += moves\n",
    "                avg_moves.failure += 1\n",
    "\n",
    "            avg_moves.distance += AI_Proj3.get_manhattan_distance(ship.bot_pos, ship.crew_pos)\n",
    "            avg_moves.dest_dist += AI_Proj3.get_manhattan_distance(ship.crew_pos, ship.teleport_cell)\n",
    "            ship.reset_positions()\n",
    "        del ship\n",
    "    return avg_moves\n",
    "\n",
    "def run_multi():\n",
    "    shipiters = 1000\n",
    "    ship_iters = int(shipiters/cpu_count())\n",
    "    avg_moves = run_simulations.DETAILS()\n",
    "    arg_data=[ship_iters for i in range(cpu_count())]\n",
    "    with Pool(processes=cpu_count()) as p:\n",
    "        for data in p.map(run_test, arg_data):\n",
    "            avg_moves.update(data)\n",
    "\n",
    "        print(f\"Following data has been tested across {shipiters} ships\")\n",
    "        run_simulations.print_header()\n",
    "        run_simulations.print_data(avg_moves, 2, cpu_count()*ship_iters*1000)"
   ]
  },
  {
   "cell_type": "code",
   "execution_count": 444,
   "id": "4af2642a",
   "metadata": {},
   "outputs": [
    {
     "name": "stdout",
     "output_type": "stream",
     "text": [
      "Testing for general bot\n",
      "Following data has been tested across 1000 ships\n",
      "Total iterations performed for layout is 1000\n",
      "         Name      Avg Suc Moves       Success Rate     Min Suc. Moves     Max Suc. Moves   Avg Caught Moves        Caught Rate     Avg Fail Moves       Failure Rate  Avg Bot Crew Dist Crew Teleport Dist\n",
      "   BOT LEARNT  41.28160870553472           0.985488                  0               1000                0.0                0.0             1001.0           0.014512           7.419048           5.532975\n",
      "Size of model vs Best policy lookup for generalized case 9106493 4688\n"
     ]
    }
   ],
   "source": [
    "case_name = \"general bot\" if is_general else \"learnt bot\"\n",
    "print(f\"Testing for {case_name}\")\n",
    "avg_moves = run_simulations.DETAILS()\n",
    "if is_general:\n",
    "    avg_moves = run_multi()\n",
    "    print(\"Size of model vs Best policy lookup for generalized case\", getsizeof(model_size), getsizeof(check_ship.best_policy_lookup))\n",
    "else:\n",
    "    avg_moves = run_single()"
   ]
  }
 ],
 "metadata": {
  "colab": {
   "provenance": []
  },
  "kernelspec": {
   "display_name": "Python 3 (ipykernel)",
   "language": "python",
   "name": "python3"
  },
  "language_info": {
   "codemirror_mode": {
    "name": "ipython",
    "version": 3
   },
   "file_extension": ".py",
   "mimetype": "text/x-python",
   "name": "python",
   "nbconvert_exporter": "python",
   "pygments_lexer": "ipython3",
   "version": "3.12.3"
  }
 },
 "nbformat": 4,
 "nbformat_minor": 5
}
